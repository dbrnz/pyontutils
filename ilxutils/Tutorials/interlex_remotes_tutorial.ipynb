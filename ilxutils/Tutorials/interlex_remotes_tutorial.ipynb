{
 "cells": [
  {
   "cell_type": "markdown",
   "metadata": {},
   "source": [
    "# TODO\n",
    "- update\n",
    "    - git pull pyontutils\n",
    "    - git pull ontquery\n",
    "- setup ilxutils\n",
    "    - cd pyontutils/ilxutils\n",
    "    - pip3 install --user --editable ."
   ]
  },
  {
   "cell_type": "markdown",
   "metadata": {},
   "source": [
    "# Google Sheets Import"
   ]
  },
  {
   "cell_type": "code",
   "execution_count": 14,
   "metadata": {},
   "outputs": [
    {
     "data": {
      "text/html": [
       "<div>\n",
       "<style scoped>\n",
       "    .dataframe tbody tr th:only-of-type {\n",
       "        vertical-align: middle;\n",
       "    }\n",
       "\n",
       "    .dataframe tbody tr th {\n",
       "        vertical-align: top;\n",
       "    }\n",
       "\n",
       "    .dataframe thead th {\n",
       "        text-align: right;\n",
       "    }\n",
       "</style>\n",
       "<table border=\"1\" class=\"dataframe\">\n",
       "  <thead>\n",
       "    <tr style=\"text-align: right;\">\n",
       "      <th></th>\n",
       "      <th>0</th>\n",
       "      <th>1</th>\n",
       "    </tr>\n",
       "  </thead>\n",
       "  <tbody>\n",
       "    <tr>\n",
       "      <th>0</th>\n",
       "      <td>term</td>\n",
       "      <td>curie</td>\n",
       "    </tr>\n",
       "    <tr>\n",
       "      <th>1</th>\n",
       "      <td>abdominal cavity</td>\n",
       "      <td>UBERON:0003684</td>\n",
       "    </tr>\n",
       "    <tr>\n",
       "      <th>2</th>\n",
       "      <td>abdominal wall</td>\n",
       "      <td>UBERON:0003697</td>\n",
       "    </tr>\n",
       "    <tr>\n",
       "      <th>3</th>\n",
       "      <td>adipose tissue</td>\n",
       "      <td>UBERON:0001013</td>\n",
       "    </tr>\n",
       "    <tr>\n",
       "      <th>4</th>\n",
       "      <td>adult organism</td>\n",
       "      <td>UBERON:0007023</td>\n",
       "    </tr>\n",
       "  </tbody>\n",
       "</table>\n",
       "</div>"
      ],
      "text/plain": [
       "                  0               1\n",
       "0              term           curie\n",
       "1  abdominal cavity  UBERON:0003684\n",
       "2    abdominal wall  UBERON:0003697\n",
       "3    adipose tissue  UBERON:0001013\n",
       "4    adult organism  UBERON:0007023"
      ]
     },
     "execution_count": 14,
     "metadata": {},
     "output_type": "execute_result"
    }
   ],
   "source": [
    "from pyontutils.sheets import Sheet\n",
    "import pandas as pd\n",
    "\n",
    "class Brainstem(Sheet):\n",
    "    name = 'sparc-terms' # key name you gave the google sheet id value in secrets.yaml\n",
    "    sheet_name = 'Minimal information model(MIS)' # the actual sheet name on the google sheet\n",
    "    fetch_grid = True # meta data in self.grid that has detials like bolding\n",
    "    \n",
    "brainstem = Brainstem()\n",
    "df = pd.DataFrame(brainstem.raw_values)\n",
    "df.head()"
   ]
  },
  {
   "cell_type": "markdown",
   "metadata": {},
   "source": [
    "# QUERY DATABASES "
   ]
  },
  {
   "cell_type": "code",
   "execution_count": 1,
   "metadata": {},
   "outputs": [],
   "source": [
    "from pyontutils.core import query, OntTerm"
   ]
  },
  {
   "cell_type": "code",
   "execution_count": 2,
   "metadata": {},
   "outputs": [
    {
     "data": {
      "text/plain": [
       "[OntTerm('HBA:3999', label='brain (hba)'),\n",
       " OntTerm('FMA:50801', label='Brain'),\n",
       " OntTerm('UBERON:0000955', label='brain'),\n",
       " OntTerm('UBERON:6110636', label='adult cerebral ganglion'),\n",
       " OntTerm('ILX:0101431', label='Brain')]"
      ]
     },
     "execution_count": 2,
     "metadata": {},
     "output_type": "execute_result"
    }
   ],
   "source": [
    "# Give \"query\" a usable parameter to query the databases \n",
    "from pyontutils.core import query # OntTerm\n",
    "query(term='brain')"
   ]
  },
  {
   "cell_type": "code",
   "execution_count": 3,
   "metadata": {},
   "outputs": [
    {
     "data": {
      "text/plain": [
       "[OntTerm('ILX:0103358', label='DN1 neuron'),\n",
       " OntTerm('ILX:0103361', label='DN2 neuron')]"
      ]
     },
     "execution_count": 3,
     "metadata": {},
     "output_type": "execute_result"
    }
   ],
   "source": [
    "# similar entities will show\n",
    "query(term='DN1 neuron')"
   ]
  },
  {
   "cell_type": "code",
   "execution_count": 4,
   "metadata": {},
   "outputs": [
    {
     "data": {
      "text/plain": [
       "[OntTerm('UBERON:0000955', label='brain')]"
      ]
     },
     "execution_count": 4,
     "metadata": {},
     "output_type": "execute_result"
    }
   ],
   "source": [
    "# Faster and more accurate with curie/iri\n",
    "query(curie='UBERON:0000955')"
   ]
  },
  {
   "cell_type": "code",
   "execution_count": 5,
   "metadata": {},
   "outputs": [
    {
     "data": {
      "text/plain": [
       "{'prefix': 'UBERON',\n",
       " 'suffix': '0000955',\n",
       " 'orig_kwargs': {'iri': 'http://purl.obolibrary.org/obo/UBERON_0000955',\n",
       "  'curie_or_iri': None,\n",
       "  'label': None,\n",
       "  'term': None,\n",
       "  'search': None,\n",
       "  'validated': None,\n",
       "  'query': None},\n",
       " 'kwargs': {'iri': 'http://purl.obolibrary.org/obo/UBERON_0000955',\n",
       "  'curie_or_iri': None,\n",
       "  'label': None,\n",
       "  'term': None,\n",
       "  'search': None,\n",
       "  'validated': None,\n",
       "  'query': None},\n",
       " 'label': 'brain',\n",
       " 'labels': ['brain'],\n",
       " 'definition': 'The brain is the center of the nervous system in all vertebrate, and most invertebrate, animals. Some primitive animals such as jellyfish and starfish have a decentralized nervous system without a brain, while sponges lack any nervous system at all. In vertebrates, the brain is located in the head, protected by the skull and close to the primary sensory apparatus of vision, hearing, balance, taste, and smell[WP].',\n",
       " 'synonyms': ['the brain',\n",
       "  'synganglion',\n",
       "  'suprasegmental structures',\n",
       "  'suprasegmental levels of nervous system',\n",
       "  'encephalon'],\n",
       " 'deprecated': False,\n",
       " 'predicates': {},\n",
       " '_type': OntId('owl:Class'),\n",
       " '_types': (OntId('owl:Class'),),\n",
       " '_graph': None,\n",
       " '_source': <ontquery.plugins.services.SciGraphRemote at 0x7f78c877b320>,\n",
       " 'validated': True,\n",
       " '_query_result': QueryResult({'iri': 'http://purl.obolibrary.org/obo/UBERON_0000955', 'curie': 'UBERON:0000955', 'label': 'brain', 'labels': ['brain'], 'definition': 'The brain is the center of the nervous system in all vertebrate, and most invertebrate, animals. Some primitive animals such as jellyfish and starfish have a decentralized nervous system without a brain, while sponges lack any nervous system at all. In vertebrates, the brain is located in the head, protected by the skull and close to the primary sensory apparatus of vision, hearing, balance, taste, and smell[WP].', 'synonyms': ['the brain', 'synganglion', 'suprasegmental structures', 'suprasegmental levels of nervous system', 'encephalon'], 'deprecated': False, 'predicates': {}, 'type': OntId('owl:Class'), 'types': (OntId('owl:Class'),), '_graph': None, 'source': <ontquery.plugins.services.SciGraphRemote object at 0x7f78c877b320>})}"
      ]
     },
     "execution_count": 5,
     "metadata": {},
     "output_type": "execute_result"
    }
   ],
   "source": [
    "entity = query(curie='UBERON:0000955')[0]\n",
    "# Full result attribute\n",
    "vars(entity)"
   ]
  },
  {
   "cell_type": "markdown",
   "metadata": {},
   "source": [
    "# DEBUGGING HINT\n",
    "- 1 \"?\" at the end of a function or class will return its params, docstring, and pathing. \n",
    "- 2 \"??\" returns the ENTIRE class/functions "
   ]
  },
  {
   "cell_type": "code",
   "execution_count": 6,
   "metadata": {},
   "outputs": [
    {
     "data": {
      "text/plain": [
       "\u001b[0;31mSignature:\u001b[0m      \u001b[0mquery\u001b[0m\u001b[0;34m(\u001b[0m\u001b[0;34m*\u001b[0m\u001b[0margs\u001b[0m\u001b[0;34m,\u001b[0m \u001b[0;34m**\u001b[0m\u001b[0mkwargs\u001b[0m\u001b[0;34m)\u001b[0m\u001b[0;34m\u001b[0m\u001b[0;34m\u001b[0m\u001b[0m\n",
       "\u001b[0;31mCall signature:\u001b[0m\n",
       "\u001b[0mquery\u001b[0m\u001b[0;34m(\u001b[0m\u001b[0;34m\u001b[0m\n",
       "\u001b[0;34m\u001b[0m    \u001b[0mterm\u001b[0m\u001b[0;34m=\u001b[0m\u001b[0;32mNone\u001b[0m\u001b[0;34m,\u001b[0m\u001b[0;34m\u001b[0m\n",
       "\u001b[0;34m\u001b[0m    \u001b[0mprefix\u001b[0m\u001b[0;34m=\u001b[0m\u001b[0;34m(\u001b[0m\u001b[0;34m)\u001b[0m\u001b[0;34m,\u001b[0m\u001b[0;34m\u001b[0m\n",
       "\u001b[0;34m\u001b[0m    \u001b[0mcategory\u001b[0m\u001b[0;34m=\u001b[0m\u001b[0;32mNone\u001b[0m\u001b[0;34m,\u001b[0m\u001b[0;34m\u001b[0m\n",
       "\u001b[0;34m\u001b[0m    \u001b[0mlabel\u001b[0m\u001b[0;34m=\u001b[0m\u001b[0;32mNone\u001b[0m\u001b[0;34m,\u001b[0m\u001b[0;34m\u001b[0m\n",
       "\u001b[0;34m\u001b[0m    \u001b[0mabbrev\u001b[0m\u001b[0;34m=\u001b[0m\u001b[0;32mNone\u001b[0m\u001b[0;34m,\u001b[0m\u001b[0;34m\u001b[0m\n",
       "\u001b[0;34m\u001b[0m    \u001b[0msearch\u001b[0m\u001b[0;34m=\u001b[0m\u001b[0;32mNone\u001b[0m\u001b[0;34m,\u001b[0m\u001b[0;34m\u001b[0m\n",
       "\u001b[0;34m\u001b[0m    \u001b[0msuffix\u001b[0m\u001b[0;34m=\u001b[0m\u001b[0;32mNone\u001b[0m\u001b[0;34m,\u001b[0m\u001b[0;34m\u001b[0m\n",
       "\u001b[0;34m\u001b[0m    \u001b[0mcurie\u001b[0m\u001b[0;34m=\u001b[0m\u001b[0;32mNone\u001b[0m\u001b[0;34m,\u001b[0m\u001b[0;34m\u001b[0m\n",
       "\u001b[0;34m\u001b[0m    \u001b[0miri\u001b[0m\u001b[0;34m=\u001b[0m\u001b[0;32mNone\u001b[0m\u001b[0;34m,\u001b[0m\u001b[0;34m\u001b[0m\n",
       "\u001b[0;34m\u001b[0m    \u001b[0mpredicates\u001b[0m\u001b[0;34m=\u001b[0m\u001b[0;34m(\u001b[0m\u001b[0;34m)\u001b[0m\u001b[0;34m,\u001b[0m\u001b[0;34m\u001b[0m\n",
       "\u001b[0;34m\u001b[0m    \u001b[0mexclude_prefix\u001b[0m\u001b[0;34m=\u001b[0m\u001b[0;34m(\u001b[0m\u001b[0;34m)\u001b[0m\u001b[0;34m,\u001b[0m\u001b[0;34m\u001b[0m\n",
       "\u001b[0;34m\u001b[0m    \u001b[0mdepth\u001b[0m\u001b[0;34m=\u001b[0m\u001b[0;36m1\u001b[0m\u001b[0;34m,\u001b[0m\u001b[0;34m\u001b[0m\n",
       "\u001b[0;34m\u001b[0m    \u001b[0mdirection\u001b[0m\u001b[0;34m=\u001b[0m\u001b[0;34m'OUTGOING'\u001b[0m\u001b[0;34m,\u001b[0m\u001b[0;34m\u001b[0m\n",
       "\u001b[0;34m\u001b[0m    \u001b[0mlimit\u001b[0m\u001b[0;34m=\u001b[0m\u001b[0;36m10\u001b[0m\u001b[0;34m,\u001b[0m\u001b[0;34m\u001b[0m\n",
       "\u001b[0;34m\u001b[0m    \u001b[0minclude_deprecated\u001b[0m\u001b[0;34m=\u001b[0m\u001b[0;32mFalse\u001b[0m\u001b[0;34m,\u001b[0m\u001b[0;34m\u001b[0m\n",
       "\u001b[0;34m\u001b[0m\u001b[0;34m)\u001b[0m\u001b[0;34m\u001b[0m\u001b[0;34m\u001b[0m\u001b[0m\n",
       "\u001b[0;31mType:\u001b[0m           OntQueryCli\n",
       "\u001b[0;31mString form:\u001b[0m    <ontquery.query.OntQueryCli object at 0x7f78c89bef98>\n",
       "\u001b[0;31mFile:\u001b[0m           ~/Dropbox/git/ontquery/ontquery/query.py\n",
       "\u001b[0;31mDocstring:\u001b[0m      <no docstring>\n"
      ]
     },
     "metadata": {},
     "output_type": "display_data"
    }
   ],
   "source": [
    "query?"
   ]
  },
  {
   "cell_type": "markdown",
   "metadata": {},
   "source": [
    "# BONUS!"
   ]
  },
  {
   "cell_type": "markdown",
   "metadata": {},
   "source": [
    "### Concurrently search! (Run multiple query functions at the same time)"
   ]
  },
  {
   "cell_type": "code",
   "execution_count": 7,
   "metadata": {},
   "outputs": [
    {
     "name": "stdout",
     "output_type": "stream",
     "text": [
      "Futures compiled\n"
     ]
    },
    {
     "data": {
      "text/plain": [
       "[({'curie': 'UBERON:0000955'}, [OntTerm('UBERON:0000955', label='brain')]),\n",
       " ({'curie': 'UBERON:6110636'},\n",
       "  [OntTerm('UBERON:6110636', label='adult cerebral ganglion')])]"
      ]
     },
     "execution_count": 7,
     "metadata": {},
     "output_type": "execute_result"
    }
   ],
   "source": [
    "from pyontutils.utils import Async, deferred\n",
    "from pyontutils.core import OntTerm, ixr, query\n",
    "from typing import List, Tuple\n",
    "\n",
    "query.setup()\n",
    "\n",
    "def queries(kwargs_list:List[dict]) -> List[Tuple[str, dict]]:\n",
    "    '''Asynchronously query databases to dramatically increase runtime un users end \n",
    "    \n",
    "    Examples:\n",
    "        >>> queries([{'term':'Brain'},])\n",
    "        [({'term': 'Brain'},\n",
    "          [OntTerm('HBA:3999', label='brain (hba)'),\n",
    "           OntTerm('FMA:50801', label='Brain'),\n",
    "           OntTerm('UBERON:0000955', label='brain'),\n",
    "           OntTerm('UBERON:6110636', label='adult cerebral ganglion')])]\n",
    "        >>> queries([{'curie':'UBERON:0000955'},])\n",
    "        [({'curie': 'UBERON:0000955'}, [OntTerm('UBERON:0000955', label='brain')])]\n",
    "        \n",
    "    Definitions:\n",
    "        kwargs == common name given to dictionary input for function\n",
    "        tuple == a list that you cannot update. \n",
    "        lambda == short-hand for single line function creation (func = lambda <input>: <output>)  \n",
    "        \n",
    "    Args:\n",
    "        kwargs_list (list): A list of dictionaries that are paramaters for the query function\n",
    "    \n",
    "    Returns:\n",
    "        List[tuple]: A list of tuples all being of (<input>, <query_result>).    \n",
    "    '''\n",
    "    # create a query function wrapper to return tuple\n",
    "    # kwargs -> (kwargs, query_result)\n",
    "    # We do this in case 2+ queries return the same results & the output WILL NOT have the same input order\n",
    "    gin = lambda kwargs: (kwargs, query(**kwargs))\n",
    "    # run each query instance at the same time\n",
    "    results = Async()(deferred(gin)(kwargs) for kwargs in kwargs_list)\n",
    "    return results \n",
    "\n",
    "queries([{'curie':'UBERON:0000955'}, {'curie':'UBERON:6110636'}])"
   ]
  },
  {
   "cell_type": "markdown",
   "metadata": {},
   "source": [
    "# Modifing TEST InterLex"
   ]
  },
  {
   "cell_type": "code",
   "execution_count": null,
   "metadata": {},
   "outputs": [],
   "source": [
    "# cd ~/pyontutils/ilxutils/\n",
    "# pip3 install --user --editable ."
   ]
  },
  {
   "cell_type": "code",
   "execution_count": 18,
   "metadata": {},
   "outputs": [],
   "source": [
    "# TEST InterLex endpoints\n",
    "from ilxutils.remotes import interlex_remote_test as ixrt"
   ]
  },
  {
   "cell_type": "markdown",
   "metadata": {},
   "source": [
    "# ADD"
   ]
  },
  {
   "cell_type": "code",
   "execution_count": 9,
   "metadata": {},
   "outputs": [
    {
     "data": {
      "text/plain": [
       "\u001b[0;31mSignature:\u001b[0m\n",
       "\u001b[0mixrt\u001b[0m\u001b[0;34m.\u001b[0m\u001b[0madd_entity\u001b[0m\u001b[0;34m(\u001b[0m\u001b[0;34m\u001b[0m\n",
       "\u001b[0;34m\u001b[0m    \u001b[0mtype\u001b[0m\u001b[0;34m,\u001b[0m\u001b[0;34m\u001b[0m\n",
       "\u001b[0;34m\u001b[0m    \u001b[0msubThingOf\u001b[0m\u001b[0;34m,\u001b[0m\u001b[0;34m\u001b[0m\n",
       "\u001b[0;34m\u001b[0m    \u001b[0mlabel\u001b[0m\u001b[0;34m,\u001b[0m\u001b[0;34m\u001b[0m\n",
       "\u001b[0;34m\u001b[0m    \u001b[0mdefinition\u001b[0m\u001b[0;34m:\u001b[0m \u001b[0mstr\u001b[0m \u001b[0;34m=\u001b[0m \u001b[0;32mNone\u001b[0m\u001b[0;34m,\u001b[0m\u001b[0;34m\u001b[0m\n",
       "\u001b[0;34m\u001b[0m    \u001b[0msynonyms\u001b[0m\u001b[0;34m=\u001b[0m\u001b[0;34m(\u001b[0m\u001b[0;34m)\u001b[0m\u001b[0;34m,\u001b[0m\u001b[0;34m\u001b[0m\n",
       "\u001b[0;34m\u001b[0m    \u001b[0mcomment\u001b[0m\u001b[0;34m:\u001b[0m \u001b[0mstr\u001b[0m \u001b[0;34m=\u001b[0m \u001b[0;32mNone\u001b[0m\u001b[0;34m,\u001b[0m\u001b[0;34m\u001b[0m\n",
       "\u001b[0;34m\u001b[0m    \u001b[0mpredicates\u001b[0m\u001b[0;34m:\u001b[0m \u001b[0mdict\u001b[0m \u001b[0;34m=\u001b[0m \u001b[0;32mNone\u001b[0m\u001b[0;34m,\u001b[0m\u001b[0;34m\u001b[0m\n",
       "\u001b[0;34m\u001b[0m\u001b[0;34m)\u001b[0m\u001b[0;34m\u001b[0m\u001b[0;34m\u001b[0m\u001b[0m\n",
       "\u001b[0;31mDocstring:\u001b[0m <no docstring>\n",
       "\u001b[0;31mFile:\u001b[0m      ~/Dropbox/git/ontquery/ontquery/plugins/services.py\n",
       "\u001b[0;31mType:\u001b[0m      method\n"
      ]
     },
     "metadata": {},
     "output_type": "display_data"
    }
   ],
   "source": [
    "ixrt.add_entity?"
   ]
  },
  {
   "cell_type": "code",
   "execution_count": 10,
   "metadata": {},
   "outputs": [
    {
     "name": "stderr",
     "output_type": "stream",
     "text": [
      "\u001b[32m[2019-08-01 15:58:34,277]\u001b[0m - \u001b[33m WARNING\u001b[0m -       ontquery - \u001b[34minterlex_client.py:473 \u001b[0m - You already added entity offical label\n",
      "with ILX ID: tmp_0150124\u001b[0m\n"
     ]
    },
    {
     "name": "stdout",
     "output_type": "stream",
     "text": [
      "QueryResult({'iri': 'http://uri.interlex.org/base/tmp_0150124', 'curie': 'TMP:0150124', 'label': 'Offical label', 'labels': (), 'definition': 'official definition', 'synonyms': ('Encephalon', 'Cerebro'), 'deprecated': None, 'predicates': {'comment': 'helpful misc'}, 'type': None, 'types': (), '_graph': None, 'source': <ontquery.plugins.services.InterLexRemote object at 0x7f78c8677860>})\n"
     ]
    }
   ],
   "source": [
    "entity = dict(\n",
    "    label = 'offical label', # Can only one unique label per person\n",
    "    type = 'term', # OPTIONS: term, annotation, relationship, cde, fde, pde\n",
    "    definition = 'official definition',\n",
    "    comment = 'helpful misc',\n",
    "    # Optional\n",
    "    subThingOf = '', # WARNING ::: must have at last '', can be blank but please fill this in if you can. \n",
    "    synonyms = ['Encephalon', 'Cerebro'],\n",
    "    predicates = {} # annotations and/or relationships to add\n",
    "    # TODO: existing_ids will be an option later\n",
    ")\n",
    "result = ixrt.add_entity(**entity)\n",
    "print(result)"
   ]
  },
  {
   "cell_type": "markdown",
   "metadata": {},
   "source": [
    "# UPDATE"
   ]
  },
  {
   "cell_type": "code",
   "execution_count": 11,
   "metadata": {},
   "outputs": [
    {
     "data": {
      "text/plain": [
       "\u001b[0;31mSignature:\u001b[0m\n",
       "\u001b[0mixrt\u001b[0m\u001b[0;34m.\u001b[0m\u001b[0mupdate_entity\u001b[0m\u001b[0;34m(\u001b[0m\u001b[0;34m\u001b[0m\n",
       "\u001b[0;34m\u001b[0m    \u001b[0milx_id\u001b[0m\u001b[0;34m:\u001b[0m \u001b[0mstr\u001b[0m \u001b[0;34m=\u001b[0m \u001b[0;32mNone\u001b[0m\u001b[0;34m,\u001b[0m\u001b[0;34m\u001b[0m\n",
       "\u001b[0;34m\u001b[0m    \u001b[0mtype\u001b[0m\u001b[0;34m:\u001b[0m \u001b[0mstr\u001b[0m \u001b[0;34m=\u001b[0m \u001b[0;32mNone\u001b[0m\u001b[0;34m,\u001b[0m\u001b[0;34m\u001b[0m\n",
       "\u001b[0;34m\u001b[0m    \u001b[0msubThingOf\u001b[0m\u001b[0;34m:\u001b[0m \u001b[0mstr\u001b[0m \u001b[0;34m=\u001b[0m \u001b[0;32mNone\u001b[0m\u001b[0;34m,\u001b[0m\u001b[0;34m\u001b[0m\n",
       "\u001b[0;34m\u001b[0m    \u001b[0mlabel\u001b[0m\u001b[0;34m:\u001b[0m \u001b[0mstr\u001b[0m \u001b[0;34m=\u001b[0m \u001b[0;32mNone\u001b[0m\u001b[0;34m,\u001b[0m\u001b[0;34m\u001b[0m\n",
       "\u001b[0;34m\u001b[0m    \u001b[0mdefinition\u001b[0m\u001b[0;34m:\u001b[0m \u001b[0mstr\u001b[0m \u001b[0;34m=\u001b[0m \u001b[0;32mNone\u001b[0m\u001b[0;34m,\u001b[0m\u001b[0;34m\u001b[0m\n",
       "\u001b[0;34m\u001b[0m    \u001b[0msynonyms\u001b[0m\u001b[0;34m=\u001b[0m\u001b[0;34m(\u001b[0m\u001b[0;34m)\u001b[0m\u001b[0;34m,\u001b[0m\u001b[0;34m\u001b[0m\n",
       "\u001b[0;34m\u001b[0m    \u001b[0mcomment\u001b[0m\u001b[0;34m:\u001b[0m \u001b[0mstr\u001b[0m \u001b[0;34m=\u001b[0m \u001b[0;32mNone\u001b[0m\u001b[0;34m,\u001b[0m\u001b[0;34m\u001b[0m\n",
       "\u001b[0;34m\u001b[0m    \u001b[0mpredicates_to_add\u001b[0m\u001b[0;34m:\u001b[0m \u001b[0mdict\u001b[0m \u001b[0;34m=\u001b[0m \u001b[0;32mNone\u001b[0m\u001b[0;34m,\u001b[0m\u001b[0;34m\u001b[0m\n",
       "\u001b[0;34m\u001b[0m    \u001b[0mpredicates_to_delete\u001b[0m\u001b[0;34m:\u001b[0m \u001b[0mdict\u001b[0m \u001b[0;34m=\u001b[0m \u001b[0;32mNone\u001b[0m\u001b[0;34m,\u001b[0m\u001b[0;34m\u001b[0m\n",
       "\u001b[0;34m\u001b[0m\u001b[0;34m)\u001b[0m\u001b[0;34m\u001b[0m\u001b[0;34m\u001b[0m\u001b[0m\n",
       "\u001b[0;31mDocstring:\u001b[0m <no docstring>\n",
       "\u001b[0;31mFile:\u001b[0m      ~/Dropbox/git/ontquery/ontquery/plugins/services.py\n",
       "\u001b[0;31mType:\u001b[0m      method\n"
      ]
     },
     "metadata": {},
     "output_type": "display_data"
    }
   ],
   "source": [
    "ixrt.update_entity?"
   ]
  },
  {
   "cell_type": "code",
   "execution_count": 12,
   "metadata": {},
   "outputs": [
    {
     "name": "stderr",
     "output_type": "stream",
     "text": [
      "\u001b[32m[2019-08-01 15:58:38,017]\u001b[0m - \u001b[32m    INFO\u001b[0m -       ontquery - \u001b[34minterlex_client.py:582 \u001b[0m - {'ilx_id': 'TMP:0150124', 'label': 'Offical label', 'type': 'term', 'definition': 'official definition', 'comment': 'helpful misc', 'superclass': '', 'synonyms': ['Encephalon', 'Cerebro']}\u001b[0m\n"
     ]
    },
    {
     "name": "stdout",
     "output_type": "stream",
     "text": [
      "QueryResult({'iri': 'http://uri.interlex.org/base/tmp_0150124', 'curie': 'TMP:0150124', 'label': 'Offical label', 'labels': (), 'definition': 'official definition', 'synonyms': ('Encephalon', 'Cerebro'), 'deprecated': None, 'predicates': {'comment': 'helpful misc'}, 'type': None, 'types': (), '_graph': None, 'source': <ontquery.plugins.services.InterLexRemote object at 0x7f78c8677860>})\n"
     ]
    }
   ],
   "source": [
    "from ilxutils.remotes import interlex_remote_test as ixrt\n",
    "entity = dict(\n",
    "    ilx_id = 'TMP:0150124',\n",
    "    label = 'Offical label', # Can only one unique label per person\n",
    "    type = 'term', # OPTIONS: term, annotation, relationship, cde, fde, pde\n",
    "    definition = 'official definition',\n",
    "    comment = 'helpful misc',\n",
    "    # Optional\n",
    "    subThingOf = '', # WARNING ::: must have at last '', can be blank but please fill this in if you can. \n",
    "    synonyms = ['Encephalon', 'Cerebro'],\n",
    "    predicates_to_add = {}, # annotations and/or relationships to add\n",
    "    predicates_to_delete = {}, # annotations and/or relationships to del\n",
    "    # TODO: existing_ids will be an option later\n",
    ")\n",
    "result = ixrt.update_entity(**entity)\n",
    "print(result)"
   ]
  },
  {
   "cell_type": "markdown",
   "metadata": {},
   "source": [
    "# PRODUCTION "
   ]
  },
  {
   "cell_type": "code",
   "execution_count": 17,
   "metadata": {},
   "outputs": [],
   "source": [
    "# PRODUCTION \n",
    "from ilxutils.remotes import interlex_remote_production as ixr\n",
    "# BE CAREFUL :)"
   ]
  }
 ],
 "metadata": {
  "kernelspec": {
   "display_name": "Python 3",
   "language": "python",
   "name": "python3"
  },
  "language_info": {
   "codemirror_mode": {
    "name": "ipython",
    "version": 3
   },
   "file_extension": ".py",
   "mimetype": "text/x-python",
   "name": "python",
   "nbconvert_exporter": "python",
   "pygments_lexer": "ipython3",
   "version": "3.7.3"
  }
 },
 "nbformat": 4,
 "nbformat_minor": 4
}
